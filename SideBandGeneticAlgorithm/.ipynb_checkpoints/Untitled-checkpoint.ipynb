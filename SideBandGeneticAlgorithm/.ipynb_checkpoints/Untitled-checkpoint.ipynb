{
 "cells": [
  {
   "cell_type": "code",
   "execution_count": null,
   "metadata": {},
   "outputs": [],
   "source": []
  }
 ],
 "metadata": {
  "kernelspec": {
   "display_name": "Python 3.8.2 ('base')",
   "language": "python",
   "name": "python3"
  },
  "language_info": {
   "name": "python",
   "version": "3.8.2"
  },
  "vscode": {
   "interpreter": {
    "hash": "8bbf58071c9e1c40c1edbee7a0be3cc113d7c0a37c271c47441b47aecb6beb2f"
   }
  }
 },
 "nbformat": 4,
 "nbformat_minor": 5
}
