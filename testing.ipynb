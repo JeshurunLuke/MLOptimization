{
 "cells": [
  {
   "cell_type": "code",
   "execution_count": null,
   "metadata": {},
   "outputs": [],
   "source": [
    "from scipy import io\n",
    "import numpy as np\n",
    "import h5py\n",
    "\n",
    "def read():\n",
    "    mat = io.loadmat('./2022-05-05/summary_data.mat')\n",
    "    #f = h5py.File('./2022-05-05/summary_data.mat','r')\n",
    "    \n",
    "    #data = f.get('dataRb')\n",
    "    \n",
    "\n",
    "\n",
    "    return mat\n",
    "\n",
    "mat = read()\n",
    "dataRb = mat['dataRb']\n",
    "print(type(dataRb))\n",
    "print(dataRb[-1][0])\n",
    "print(int(dataRb[-1][0]))\n",
    "pkOD, NRb = float(dataRb[-1][3]), float(dataRb[-1][8])\n",
    "print(pkOD)\n",
    "print(NRb)\n"
   ]
  },
  {
   "cell_type": "code",
   "execution_count": null,
   "metadata": {},
   "outputs": [],
   "source": [
    "import datetime\n",
    "\n",
    "x = datetime.datetime.now()\n",
    "\n",
    "print(x.strftime(\"%G\") + '-' + x.strftime(\"%m\") + '-' + x.strftime(\"%d\") + \"/summary_data.mat\"\t)\n",
    "int(x.strftime(\"%d\"))"
   ]
  },
  {
   "cell_type": "code",
   "execution_count": null,
   "metadata": {},
   "outputs": [],
   "source": [
    "import matlab.engine\n",
    "names = matlab.engine.find_matlab()\n",
    "\n",
    "names"
   ]
  },
  {
   "cell_type": "code",
   "execution_count": null,
   "metadata": {},
   "outputs": [],
   "source": [
    "import matlab.engine\n",
    "eng = matlab.engine.connect_matlab()\n",
    "\n",
    "#eng.testing(1)"
   ]
  },
  {
   "cell_type": "code",
   "execution_count": null,
   "metadata": {},
   "outputs": [],
   "source": [
    "def callMe():\n",
    "    print(\"Eh\")\n",
    "\n",
    "\n",
    "s = eng.testing(1,1 )\n",
    "#eng.runScan(\"@mainHighB\", 4, 'random', 1)\n",
    "#eng.runScan(\"@mainHighB\", 4, 'random', 1)\n",
    "\n",
    "print(s)"
   ]
  },
  {
   "cell_type": "code",
   "execution_count": null,
   "metadata": {},
   "outputs": [],
   "source": [
    "eng.quit()\n"
   ]
  },
  {
   "cell_type": "code",
   "execution_count": null,
   "metadata": {},
   "outputs": [],
   "source": [
    "import os\n",
    "path  = rf\"{os.getcwd()}\".encode('unicode_escape').decode()\n",
    "os.system(f\"matlab -nosplash -nodesktop -r \\\"cd('{path}'), testing(@callMe, 1), exit\\\"\")\n",
    "#print(\"Hello\")"
   ]
  },
  {
   "cell_type": "markdown",
   "metadata": {},
   "source": [
    "matlab -nosplash -nodesktop -r \"cd('C:\\Users\\jeshu\\Documents\\Harvard\\Labs\\NiLabRotation\\MloopEvap'), testing(@callMe, 1), exit\"\n",
    "matlab -nosplash -nodesktop -r \"cd('C:\\\\Users\\\\jeshu\\\\Documents\\\\Harvard\\\\Labs\\\\NiLabRotation\\\\MloopEvap'), testing(@callMe, 1), exit\""
   ]
  },
  {
   "cell_type": "code",
   "execution_count": null,
   "metadata": {},
   "outputs": [],
   "source": [
    "def write(params):\n",
    "    #Input Fcut (length = 5) tTotal (scalar) amp (length = 5) A (length = 15)\n",
    "\n",
    "    io.savemat('test.mat',{'fcut':params[0:5], 'tTotal': params[5], 'amp': params[6:11], 'A': params[11:len(params)]})\n",
    "\n",
    "params = np.random.rand(26)\n",
    "write(params)\n",
    "\n",
    "print(params)\n"
   ]
  },
  {
   "cell_type": "code",
   "execution_count": null,
   "metadata": {},
   "outputs": [],
   "source": [
    "\n",
    "#Imports for M-LOOP\n",
    "import mloop.interfaces as mli\n",
    "import mloop.controllers as mlc\n",
    "import mloop.visualizations as mlv\n",
    "\n",
    "#Other imports\n",
    "import numpy as np\n",
    "import time\n",
    "\n",
    "#Declare your custom class that inherits from the Interface class\n",
    "class CustomInterface(mli.Interface):\n",
    "    \n",
    "    #Initialization of the interface, including this method is optional\n",
    "    def __init__(self):\n",
    "        #You must include the super command to call the parent class, Interface, constructor \n",
    "        super(CustomInterface,self).__init__()\n",
    "        \n",
    "        #Attributes of the interface can be added here\n",
    "        #If you want to precalculate any variables etc. this is the place to do it\n",
    "        #In this example we will just define the location of the minimum\n",
    "        self.minimum_params = np.array([0,0.1,-0.1])\n",
    "        \n",
    "    #You must include the get_next_cost_dict method in your class\n",
    "    #this method is called whenever M-LOOP wants to run an experiment\n",
    "    def get_next_cost_dict(self,params_dict):\n",
    "        \n",
    "        #Get parameters from the provided dictionary\n",
    "        params = params_dict['params']\n",
    "        \n",
    "        #Here you can include the code to run your experiment given a particular set of parameters\n",
    "        #In this example we will just evaluate a sum of sinc functions\n",
    "        cost = -np.sum(np.sinc(params - self.minimum_params))\n",
    "        #There is no uncertainty in our result\n",
    "        uncer = 0\n",
    "        #The evaluation will always be a success\n",
    "        bad = False\n",
    "        #Add a small time delay to mimic a real experiment\n",
    "        time.sleep(1)\n",
    "        \n",
    "        #The cost, uncertainty and bad boolean must all be returned as a dictionary\n",
    "        #You can include other variables you want to record as well if you want\n",
    "        cost_dict = {'cost':cost, 'uncer':uncer, 'bad':bad}\n",
    "        return cost_dict\n",
    "    \n",
    "def main():\n",
    "    #M-LOOP can be run with three commands\n",
    "    \n",
    "    #First create your interface\n",
    "    interface = CustomInterface()\n",
    "    #Next create the controller. Provide it with your interface and any options you want to set\n",
    "    controller = mlc.create_controller(interface,\n",
    "                                       controller_type='neural_net', \n",
    "                                       max_num_runs = 1000,\n",
    "                                       target_cost = -2.99,\n",
    "                                       num_params = 3, \n",
    "                                       min_boundary = [-2,-2,-2],\n",
    "                                       max_boundary = [2,2,2])\n",
    "    #To run M-LOOP and find the optimal parameters just use the controller method optimize\n",
    "    controller.optimize()\n",
    "    \n",
    "    #The results of the optimization will be saved to files and can also be accessed as attributes of the controller.\n",
    "    print('Best parameters found:')\n",
    "    print(controller.best_params)\n",
    "    \n",
    "    #You can also run the default sets of visualizations for the controller with one command\n",
    "    mlv.show_all_default_visualizations(controller)\n",
    "    \n",
    "\n",
    "#Ensures main is run when this code is run as a script\n",
    "if __name__ == '__main__':\n",
    "    main()"
   ]
  },
  {
   "cell_type": "code",
   "execution_count": null,
   "metadata": {},
   "outputs": [],
   "source": [
    "Run = 0 \n",
    "class Tester():\n",
    "    def __init__(self):\n",
    "        self.Run = 0 \n",
    "    def main(self):\n",
    "        self.Run = self.Run  + 1\n",
    "\n",
    "    def main2(self):\n",
    "        print(self.Run)\n",
    "        self.Run  = 2\n",
    "a = Tester()\n",
    "\n",
    "a.main()\n",
    "a.main2()\n",
    "print(a.Run)"
   ]
  },
  {
   "cell_type": "code",
   "execution_count": null,
   "metadata": {},
   "outputs": [],
   "source": [
    "int('13')"
   ]
  },
  {
   "cell_type": "code",
   "execution_count": null,
   "metadata": {},
   "outputs": [],
   "source": [
    "from scipy import integrate\n",
    "import numpy as np\n",
    "def costFinderODAvg( pkOD, sigX, sigY):\n",
    "    twoDgauss = lambda y, x: pkOD*np.exp(-(x**2/(2*sigX**2) + y**2/(2*sigY**2)))\n",
    "    Avg = integrate.dblquad(twoDgauss, -3*sigX, 3*sigX, -3*sigY, 3*sigY)[0]\n",
    "    return -Avg\n",
    "print(costFinderODAvg(10, 1, 1))"
   ]
  },
  {
   "cell_type": "code",
   "execution_count": null,
   "metadata": {},
   "outputs": [],
   "source": [
    "import matplotlib.pyplot as plt\n",
    "import numpy as np\n",
    "\n",
    "alpha = 0.5\n",
    "def costFinderLit(pkOD, NRb): #Background N Get File structure for more accurate\n",
    "    N1 = 7376000.0/15 #or 7376000.0/100\n",
    "\n",
    "    Fn = 2/(1 + np.exp(N1/NRb))\n",
    "    return -Fn*pkOD**3*NRb**(alpha-9/5)\n",
    "pkOD = np.linspace(500, 1500, 1000)\n",
    "NRb = np.linspace(7376000.0/30, 2*7376000.0, 1000)\n",
    "\n",
    "PKOD, NRB = np.meshgrid(pkOD, NRb)\n",
    "Z = costFinderLit(PKOD, NRB)\n"
   ]
  },
  {
   "cell_type": "code",
   "execution_count": null,
   "metadata": {},
   "outputs": [],
   "source": [
    "fig = plt.figure()\n",
    "ax = plt.axes(projection='3d')\n",
    "ax.contour3D(PKOD, NRB, Z, 1000, cmap='binary')\n",
    "ax.set_xlabel('PKOD')\n",
    "ax.set_ylabel('NRB')\n",
    "ax.set_zlabel('Cost');"
   ]
  },
  {
   "cell_type": "code",
   "execution_count": null,
   "metadata": {},
   "outputs": [],
   "source": [
    "from controller2learner import Convert2Learn\n",
    "Convert2Learn('./M-LOOP_archives/5Param9-18.txt')"
   ]
  },
  {
   "cell_type": "code",
   "execution_count": null,
   "metadata": {},
   "outputs": [],
   "source": []
  },
  {
   "cell_type": "code",
   "execution_count": 6,
   "metadata": {},
   "outputs": [],
   "source": [
    "from scipy import io\n",
    "import numpy as np\n",
    "import matplotlib.pyplot as plt\n",
    "import mloop.utilities as mlu\n",
    "import numpy as np\n",
    "\n",
    "dir = 'Z:\\KRbLab\\M_loop\\\\2022_09\\\\2022-09-17\\summary_data_backup.mat'\n",
    "def read(dir): #Get File structure for more accurate\n",
    "    mat = io.loadmat(dir)\n",
    "    return mat\n",
    "dataOut = read(dir)\n",
    "\n",
    "\n",
    "def getCost(training_filename):\n",
    "    training_dict = mlu.get_dict_from_file(\n",
    "        training_filename,\n",
    "    )\n",
    "    all_cost = mlu.safe_cast_to_array(training_dict['in_costs'])\n",
    "    paramsList = np.array(training_dict['out_params'], dtype=float) \n",
    "\n",
    "    return all_cost, paramsList\n",
    "\n",
    "def getExpData(indstart, indend):\n",
    "    dataRb = dataOut['dataRb']\n",
    "    for i, runNum in enumerate(dataRb[:, 0]):\n",
    "        if str(runNum[0]) == str(indstart):\n",
    "            start = i\n",
    "        elif str(runNum[0]) == str(indend):\n",
    "            end = i\n",
    "\n",
    "    pkOd = np.array(dataRb[start:end, 3], dtype = float)\n",
    "    NRb = np.array(dataRb[start:end, 8], dtype = float)\n",
    "    Temp = np.array(dataRb[start:end, 9], dtype = float)\n",
    "    sigX = np.array(dataRb[start:end, 4], dtype = float)\n",
    "    sigY = np.array(dataRb[start:end, 5], dtype = float)\n",
    "\n",
    "    return pkOd, NRb, Temp, sigX, sigY\n",
    "\n",
    "pkOD, NRb, Temp, sigX, sigY = getExpData(226, 452)\n",
    "\n",
    "cost, paramsList = getCost('./M-LOOP_archives/5Param9-18.txt')\n",
    "n = np.arange(1, len(pkOD)+1)\n"
   ]
  },
  {
   "cell_type": "code",
   "execution_count": 7,
   "metadata": {},
   "outputs": [
    {
     "name": "stderr",
     "output_type": "stream",
     "text": [
      "<ipython-input-7-72364980c3a5>:7: RuntimeWarning: overflow encountered in exp\n",
      "  Fn = 2/(1 + np.exp(N1/NRb))\n"
     ]
    }
   ],
   "source": [
    "N1 = 7376000.0*4\n",
    "alpha = -1/5\n",
    "def costFinderLit(pkOD, NRb, alpha): #Background N Get File structure for more accurate\n",
    "    if NRb <= 0:\n",
    "        return 0\n",
    "    else:\n",
    "        Fn = 2/(1 + np.exp(N1/NRb))\n",
    "        return -Fn*pkOD**3*NRb**(alpha-9/5) *1E7\n",
    "CostV4 = []\n",
    "for i, _ in enumerate(pkOD):\n",
    "    CostV4.append(costFinderLit(pkOD[i], NRb[i], alpha))\n",
    "CostV4 = np.array(CostV4)"
   ]
  },
  {
   "cell_type": "code",
   "execution_count": 8,
   "metadata": {},
   "outputs": [
    {
     "data": {
      "text/plain": [
       "<matplotlib.collections.PathCollection at 0x2323fffb310>"
      ]
     },
     "execution_count": 8,
     "metadata": {},
     "output_type": "execute_result"
    },
    {
     "data": {
      "image/png": "[encoded data removed]",
      "text/plain": [
       "<Figure size 432x288 with 1 Axes>"
      ]
     },
     "metadata": {
      "needs_background": "light"
     },
     "output_type": "display_data"
    }
   ],
   "source": [
    "plt.scatter(n, CostV4)"
   ]
  },
  {
   "cell_type": "code",
   "execution_count": 12,
   "metadata": {},
   "outputs": [
    {
     "data": {
      "text/plain": [
       "'./ConversionFolder/learnerC'"
      ]
     },
     "execution_count": 12,
     "metadata": {},
     "output_type": "execute_result"
    }
   ],
   "source": [
    "from controller2learner import Convert2Learn\n",
    "Convert2Learn('./M-LOOP_archives/5Param9-18.txt', TransformCost = CostV4)"
   ]
  },
  {
   "cell_type": "code",
   "execution_count": null,
   "metadata": {},
   "outputs": [],
   "source": []
  }
 ],
 "metadata": {
  "kernelspec": {
   "display_name": "Python 3.9.12 ('base')",
   "language": "python",
   "name": "python3"
  },
  "language_info": {
   "codemirror_mode": {
    "name": "ipython",
    "version": 3
   },
   "file_extension": ".py",
   "mimetype": "text/x-python",
   "name": "python",
   "nbconvert_exporter": "python",
   "pygments_lexer": "ipython3",
   "version": "3.9.12"
  },
  "orig_nbformat": 4,
  "vscode": {
   "interpreter": {
    "hash": "8bbf58071c9e1c40c1edbee7a0be3cc113d7c0a37c271c47441b47aecb6beb2f"
   }
  }
 },
 "nbformat": 4,
 "nbformat_minor": 2
}
