{
 "cells": [
  {
   "cell_type": "code",
   "execution_count": null,
   "metadata": {},
   "outputs": [],
   "source": [
    "a = '/Users/jluke/Documents/Harvard/Rotations/NiGroup/MLOptimization/MLSequenceMaker/M-LOOP_archives/controller_archive_2022-10-22_22-56.txt'"
   ]
  }
 ],
 "metadata": {
  "language_info": {
   "name": "python"
  },
  "orig_nbformat": 4
 },
 "nbformat": 4,
 "nbformat_minor": 2
}
